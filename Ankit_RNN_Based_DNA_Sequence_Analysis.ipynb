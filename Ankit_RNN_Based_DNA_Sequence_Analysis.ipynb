{
  "nbformat": 4,
  "nbformat_minor": 0,
  "metadata": {
    "colab": {
      "provenance": [],
      "gpuType": "T4"
    },
    "kernelspec": {
      "name": "python3",
      "display_name": "Python 3"
    },
    "language_info": {
      "name": "python"
    },
    "accelerator": "GPU"
  },
  "cells": [
    {
      "cell_type": "markdown",
      "source": [
        "# **Recurrent Neural Networks (RNNs)**\n",
        "\n",
        "Introduction to Recurrent Neural Networks (RNNs)\n",
        "RNNs are a type of neural network designed for sequential data.\n",
        "\n",
        "They have memory, allowing information to persist over time.\n",
        "\n",
        "Used in applications like language modeling, speech recognition, and time series forecasting.\n",
        "\n",
        "**📌 Key Concepts:**\n",
        "\n",
        "Sequence data handling\n",
        "\n",
        "Hidden states maintain information over time\n",
        "\n",
        "Backpropagation Through Time (BPTT) for training\n",
        "\n",
        "# **Recurrent Neural Networks (RNNs) - Teaching Notes**\n",
        "\n",
        "---\n",
        "\n",
        "**🔁 1. Introduction to Recurrent Neural Networks**\n",
        "\n",
        "### 📖 Concept\n",
        "Recurrent Neural Networks (RNNs) are a class of artificial neural networks designed for sequential data. Unlike feedforward networks, RNNs maintain a hidden state that captures information from previous time steps, enabling them to model temporal dependencies.\n",
        "\n",
        "### 🔬 Use Cases\n",
        "- Time series prediction\n",
        "- Natural language processing\n",
        "- Speech and handwriting recognition"
      ],
      "metadata": {
        "id": "sxeBjoi0NxKK"
      }
    },
    {
      "cell_type": "markdown",
      "source": [
        "# **Libraries for RNN**\n",
        "\n",
        "We import **numpy** & **pandas** for data, **matplotlib** & **seaborn** for plots, **sklearn** for splitting data and evaluation, and **TensorFlow/Keras** layers (`Sequential`, `Embedding`, `SimpleRNN`, `Dense`, `Dropout`) to build the RNN model.\n"
      ],
      "metadata": {
        "id": "cSFvkm0D2Wlq"
      }
    },
    {
      "cell_type": "code",
      "source": [
        "import numpy as np,re\n",
        "import pandas as pd\n",
        "import matplotlib.pyplot as plt\n",
        "import seaborn as sns\n",
        "from sklearn.model_selection import train_test_split\n",
        "from sklearn.metrics import confusion_matrix, classification_report\n",
        "import tensorflow as tf\n",
        "from tensorflow.keras.models import Sequential\n",
        "from tensorflow.keras.layers import Embedding, SimpleRNN, Dense, Dropout"
      ],
      "metadata": {
        "id": "ymYKVposvtkV"
      },
      "execution_count": 80,
      "outputs": []
    },
    {
      "cell_type": "markdown",
      "source": [
        "# **Dataset Description**\n",
        "We are using the **UCI Promoter Gene Sequences Dataset**, which contains **53 promoter** and **53 non-promoter DNA sequences**.  \n",
        "\n",
        "- Each DNA sequence is about **57 nucleotides long**.  \n",
        "- **Labels**:  \n",
        "  - `1 → Promoter`  \n",
        "  - `0 → Non-Promoter`  \n",
        "- The dataset is **balanced** (equal promoters & non-promoters)."
      ],
      "metadata": {
        "id": "mVH4mNKu2awo"
      }
    },
    {
      "cell_type": "markdown",
      "source": [
        "# **Loading and Parsing DNA Sequence Data**\n",
        "\n",
        "We read the file `/content/promoters.data`, ignore empty lines and comments, and extract **labels** and **DNA sequences**.  \n",
        "\n",
        "- Labels like `+1`, `pos`, `positive` → `1`, and `-1`, `neg`, `negative` → `0`.  \n",
        "- Sequences are cleaned of extra spaces.  \n",
        "\n",
        "Finally, we print **total samples**, **label counts**, and a **sample parsed sequence**.\n"
      ],
      "metadata": {
        "id": "g-Bmb01p3htQ"
      }
    },
    {
      "cell_type": "code",
      "source": [
        "path = \"/content/promoters.data\"   # <-- your file\n",
        "\n",
        "raw = []\n",
        "with open(path, \"r\") as f:\n",
        "    for line in f:\n",
        "        line = line.strip()\n",
        "        if not line or line.startswith(\"#\"):\n",
        "            continue\n",
        "        raw.append(line)\n",
        "\n",
        "print(\"Sample raw lines:\\n\", \"\\n\".join(raw[:3]), \"\\n\")\n",
        "\n",
        "labels, sequences = [], []\n",
        "for ln in raw:\n",
        "    parts = [p.strip() for p in ln.split(\",\")]\n",
        "\n",
        "    label_str = parts[0].replace(\" \", \"\")\n",
        "    seq_field = parts[-1]\n",
        "    seq = re.sub(r\"\\s+\", \"\", seq_field)\n",
        "\n",
        "    if label_str in {\"+1\", \"1\", \"+\", \"pos\", \"positive\"}:\n",
        "        label = 1\n",
        "    elif label_str in {\"-1\", \"0\", \"-\", \"neg\", \"negative\"}:\n",
        "        label = 0\n",
        "    else:\n",
        "        raise ValueError(f\"Unrecognized label: {label_str} in line: {ln}\")\n",
        "\n",
        "    labels.append(label)\n",
        "    sequences.append(seq)\n",
        "\n",
        "labels = np.array(labels)\n",
        "print(\"Total samples:\", len(sequences))\n",
        "print(\"Unique labels (counts):\", dict(zip(*np.unique(labels, return_counts=True))))\n",
        "print(\"Example parsed:\\n  label:\", labels[0], \"\\n  seq  :\", sequences[0][:70], \"...\\n\")"
      ],
      "metadata": {
        "colab": {
          "base_uri": "https://localhost:8080/"
        },
        "id": "qr35D4dXvwn1",
        "outputId": "6748fc8c-64f6-4a16-e660-eb8eacf948f9"
      },
      "execution_count": 81,
      "outputs": [
        {
          "output_type": "stream",
          "name": "stdout",
          "text": [
            "Sample raw lines:\n",
            " +,S10,\t\ttactagcaatacgcttgcgttcggtggttaagtatgtataatgcgcgggcttgtcgt\n",
            "+,AMPC,\t\ttgctatcctgacagttgtcacgctgattggtgtcgttacaatctaacgcatcgccaa\n",
            "+,AROH,\t\tgtactagagaactagtgcattagcttatttttttgttatcatgctaaccacccggcg \n",
            "\n",
            "Total samples: 106\n",
            "Unique labels (counts): {np.int64(0): np.int64(53), np.int64(1): np.int64(53)}\n",
            "Example parsed:\n",
            "  label: 1 \n",
            "  seq  : tactagcaatacgcttgcgttcggtggttaagtatgtataatgcgcgggcttgtcgt ...\n",
            "\n"
          ]
        }
      ]
    },
    {
      "cell_type": "markdown",
      "source": [
        "# **Encoding DNA Sequences**\n",
        "\n",
        "- Map nucleotides `a, c, g, t` to integers `0-3`; unknown characters → `4`.  \n",
        "- Convert each sequence to integer format and **pad sequences** to equal length.  \n",
        "- Labels are converted to `int32`.  \n",
        "\n",
        "Print shapes of **X (inputs)** and **y (labels)** to confirm.\n"
      ],
      "metadata": {
        "id": "mnEFMjXJ3tQw"
      }
    },
    {
      "cell_type": "code",
      "source": [
        "vocab = {\"a\":0, \"c\":1, \"g\":2, \"t\":3}\n",
        "UNK = 4\n",
        "\n",
        "encoded = []\n",
        "bad = 0\n",
        "for s in sequences:\n",
        "    s = s.lower()\n",
        "    enc = [vocab.get(ch, UNK) for ch in s]\n",
        "\n",
        "    if len(enc) == 0:\n",
        "        bad += 1\n",
        "    encoded.append(enc)\n",
        "\n",
        "if bad:\n",
        "    print(f\"Warning: {bad} empty sequences encountered\")\n",
        "\n",
        "X = tf.keras.preprocessing.sequence.pad_sequences(encoded, padding=\"post\")\n",
        "y = labels.astype(\"int32\")\n",
        "print(\"X shape:\", X.shape, \"y shape:\", y.shape)"
      ],
      "metadata": {
        "colab": {
          "base_uri": "https://localhost:8080/"
        },
        "id": "zpcajQakw8qB",
        "outputId": "83717232-eee9-45ea-ff49-0aa570221c39"
      },
      "execution_count": 82,
      "outputs": [
        {
          "output_type": "stream",
          "name": "stdout",
          "text": [
            "X shape: (106, 57) y shape: (106,)\n"
          ]
        }
      ]
    },
    {
      "cell_type": "markdown",
      "source": [
        "# **Train-Test Split**\n",
        "\n",
        "- Ensure labels are only `0` and `1`.  \n",
        "- Split data into **training (80%)** and **testing (20%)** sets with **stratification** to keep label distribution consistent.\n"
      ],
      "metadata": {
        "id": "d2_TtU2034aj"
      }
    },
    {
      "cell_type": "code",
      "source": [
        "assert set(np.unique(y)) == {0,1}\n",
        "\n",
        "X_train, X_test, y_train, y_test = train_test_split(\n",
        "    X, y, test_size=0.2, stratify=y, random_state=42\n",
        ")\n"
      ],
      "metadata": {
        "id": "jB0zey0FxI4v"
      },
      "execution_count": 83,
      "outputs": []
    },
    {
      "cell_type": "markdown",
      "source": [
        "# **Building the RNN Model**\n",
        "\n",
        "- **Embedding layer**: Converts integer-encoded DNA to dense vectors.  \n",
        "- **SimpleRNN layers**: Capture sequence patterns (64 → 32 units) with `tanh` activation.  \n",
        "- **Dropout**: 30% to prevent overfitting.  \n",
        "- **Dense layers**: 16-unit ReLU layer followed by **sigmoid output** for binary classification.  \n",
        "- Compile with **Adam optimizer** and **binary crossentropy loss**, tracking **accuracy**.\n"
      ],
      "metadata": {
        "id": "h4clTH3E4AG7"
      }
    },
    {
      "cell_type": "code",
      "source": [
        "\n",
        "seq_len = X.shape[1]\n",
        "model = Sequential([\n",
        "    Embedding(input_dim=5, output_dim=16, input_length=seq_len),\n",
        "    SimpleRNN(64, return_sequences=True, activation=\"tanh\"),\n",
        "    Dropout(0.3),\n",
        "    SimpleRNN(32, activation=\"tanh\"),\n",
        "    Dropout(0.3),\n",
        "    Dense(16, activation=\"relu\"),\n",
        "    Dense(1, activation=\"sigmoid\"),\n",
        "])\n",
        "\n",
        "model.compile(optimizer=\"adam\", loss=\"binary_crossentropy\", metrics=[\"accuracy\"])\n",
        "model.summary()"
      ],
      "metadata": {
        "colab": {
          "base_uri": "https://localhost:8080/",
          "height": 388
        },
        "id": "_IeBfYdaxM8t",
        "outputId": "b7e657dd-848a-4e30-a704-b6606857ad2c"
      },
      "execution_count": 84,
      "outputs": [
        {
          "output_type": "stream",
          "name": "stderr",
          "text": [
            "/usr/local/lib/python3.12/dist-packages/keras/src/layers/core/embedding.py:97: UserWarning: Argument `input_length` is deprecated. Just remove it.\n",
            "  warnings.warn(\n"
          ]
        },
        {
          "output_type": "display_data",
          "data": {
            "text/plain": [
              "\u001b[1mModel: \"sequential_9\"\u001b[0m\n"
            ],
            "text/html": [
              "<pre style=\"white-space:pre;overflow-x:auto;line-height:normal;font-family:Menlo,'DejaVu Sans Mono',consolas,'Courier New',monospace\"><span style=\"font-weight: bold\">Model: \"sequential_9\"</span>\n",
              "</pre>\n"
            ]
          },
          "metadata": {}
        },
        {
          "output_type": "display_data",
          "data": {
            "text/plain": [
              "┏━━━━━━━━━━━━━━━━━━━━━━━━━━━━━━━━━┳━━━━━━━━━━━━━━━━━━━━━━━━┳━━━━━━━━━━━━━━━┓\n",
              "┃\u001b[1m \u001b[0m\u001b[1mLayer (type)                   \u001b[0m\u001b[1m \u001b[0m┃\u001b[1m \u001b[0m\u001b[1mOutput Shape          \u001b[0m\u001b[1m \u001b[0m┃\u001b[1m \u001b[0m\u001b[1m      Param #\u001b[0m\u001b[1m \u001b[0m┃\n",
              "┡━━━━━━━━━━━━━━━━━━━━━━━━━━━━━━━━━╇━━━━━━━━━━━━━━━━━━━━━━━━╇━━━━━━━━━━━━━━━┩\n",
              "│ embedding_9 (\u001b[38;5;33mEmbedding\u001b[0m)         │ ?                      │   \u001b[38;5;34m0\u001b[0m (unbuilt) │\n",
              "├─────────────────────────────────┼────────────────────────┼───────────────┤\n",
              "│ simple_rnn_9 (\u001b[38;5;33mSimpleRNN\u001b[0m)        │ ?                      │   \u001b[38;5;34m0\u001b[0m (unbuilt) │\n",
              "├─────────────────────────────────┼────────────────────────┼───────────────┤\n",
              "│ dropout_10 (\u001b[38;5;33mDropout\u001b[0m)            │ ?                      │             \u001b[38;5;34m0\u001b[0m │\n",
              "├─────────────────────────────────┼────────────────────────┼───────────────┤\n",
              "│ simple_rnn_10 (\u001b[38;5;33mSimpleRNN\u001b[0m)       │ ?                      │   \u001b[38;5;34m0\u001b[0m (unbuilt) │\n",
              "├─────────────────────────────────┼────────────────────────┼───────────────┤\n",
              "│ dropout_11 (\u001b[38;5;33mDropout\u001b[0m)            │ ?                      │             \u001b[38;5;34m0\u001b[0m │\n",
              "├─────────────────────────────────┼────────────────────────┼───────────────┤\n",
              "│ dense_18 (\u001b[38;5;33mDense\u001b[0m)                │ ?                      │   \u001b[38;5;34m0\u001b[0m (unbuilt) │\n",
              "├─────────────────────────────────┼────────────────────────┼───────────────┤\n",
              "│ dense_19 (\u001b[38;5;33mDense\u001b[0m)                │ ?                      │   \u001b[38;5;34m0\u001b[0m (unbuilt) │\n",
              "└─────────────────────────────────┴────────────────────────┴───────────────┘\n"
            ],
            "text/html": [
              "<pre style=\"white-space:pre;overflow-x:auto;line-height:normal;font-family:Menlo,'DejaVu Sans Mono',consolas,'Courier New',monospace\">┏━━━━━━━━━━━━━━━━━━━━━━━━━━━━━━━━━┳━━━━━━━━━━━━━━━━━━━━━━━━┳━━━━━━━━━━━━━━━┓\n",
              "┃<span style=\"font-weight: bold\"> Layer (type)                    </span>┃<span style=\"font-weight: bold\"> Output Shape           </span>┃<span style=\"font-weight: bold\">       Param # </span>┃\n",
              "┡━━━━━━━━━━━━━━━━━━━━━━━━━━━━━━━━━╇━━━━━━━━━━━━━━━━━━━━━━━━╇━━━━━━━━━━━━━━━┩\n",
              "│ embedding_9 (<span style=\"color: #0087ff; text-decoration-color: #0087ff\">Embedding</span>)         │ ?                      │   <span style=\"color: #00af00; text-decoration-color: #00af00\">0</span> (unbuilt) │\n",
              "├─────────────────────────────────┼────────────────────────┼───────────────┤\n",
              "│ simple_rnn_9 (<span style=\"color: #0087ff; text-decoration-color: #0087ff\">SimpleRNN</span>)        │ ?                      │   <span style=\"color: #00af00; text-decoration-color: #00af00\">0</span> (unbuilt) │\n",
              "├─────────────────────────────────┼────────────────────────┼───────────────┤\n",
              "│ dropout_10 (<span style=\"color: #0087ff; text-decoration-color: #0087ff\">Dropout</span>)            │ ?                      │             <span style=\"color: #00af00; text-decoration-color: #00af00\">0</span> │\n",
              "├─────────────────────────────────┼────────────────────────┼───────────────┤\n",
              "│ simple_rnn_10 (<span style=\"color: #0087ff; text-decoration-color: #0087ff\">SimpleRNN</span>)       │ ?                      │   <span style=\"color: #00af00; text-decoration-color: #00af00\">0</span> (unbuilt) │\n",
              "├─────────────────────────────────┼────────────────────────┼───────────────┤\n",
              "│ dropout_11 (<span style=\"color: #0087ff; text-decoration-color: #0087ff\">Dropout</span>)            │ ?                      │             <span style=\"color: #00af00; text-decoration-color: #00af00\">0</span> │\n",
              "├─────────────────────────────────┼────────────────────────┼───────────────┤\n",
              "│ dense_18 (<span style=\"color: #0087ff; text-decoration-color: #0087ff\">Dense</span>)                │ ?                      │   <span style=\"color: #00af00; text-decoration-color: #00af00\">0</span> (unbuilt) │\n",
              "├─────────────────────────────────┼────────────────────────┼───────────────┤\n",
              "│ dense_19 (<span style=\"color: #0087ff; text-decoration-color: #0087ff\">Dense</span>)                │ ?                      │   <span style=\"color: #00af00; text-decoration-color: #00af00\">0</span> (unbuilt) │\n",
              "└─────────────────────────────────┴────────────────────────┴───────────────┘\n",
              "</pre>\n"
            ]
          },
          "metadata": {}
        },
        {
          "output_type": "display_data",
          "data": {
            "text/plain": [
              "\u001b[1m Total params: \u001b[0m\u001b[38;5;34m0\u001b[0m (0.00 B)\n"
            ],
            "text/html": [
              "<pre style=\"white-space:pre;overflow-x:auto;line-height:normal;font-family:Menlo,'DejaVu Sans Mono',consolas,'Courier New',monospace\"><span style=\"font-weight: bold\"> Total params: </span><span style=\"color: #00af00; text-decoration-color: #00af00\">0</span> (0.00 B)\n",
              "</pre>\n"
            ]
          },
          "metadata": {}
        },
        {
          "output_type": "display_data",
          "data": {
            "text/plain": [
              "\u001b[1m Trainable params: \u001b[0m\u001b[38;5;34m0\u001b[0m (0.00 B)\n"
            ],
            "text/html": [
              "<pre style=\"white-space:pre;overflow-x:auto;line-height:normal;font-family:Menlo,'DejaVu Sans Mono',consolas,'Courier New',monospace\"><span style=\"font-weight: bold\"> Trainable params: </span><span style=\"color: #00af00; text-decoration-color: #00af00\">0</span> (0.00 B)\n",
              "</pre>\n"
            ]
          },
          "metadata": {}
        },
        {
          "output_type": "display_data",
          "data": {
            "text/plain": [
              "\u001b[1m Non-trainable params: \u001b[0m\u001b[38;5;34m0\u001b[0m (0.00 B)\n"
            ],
            "text/html": [
              "<pre style=\"white-space:pre;overflow-x:auto;line-height:normal;font-family:Menlo,'DejaVu Sans Mono',consolas,'Courier New',monospace\"><span style=\"font-weight: bold\"> Non-trainable params: </span><span style=\"color: #00af00; text-decoration-color: #00af00\">0</span> (0.00 B)\n",
              "</pre>\n"
            ]
          },
          "metadata": {}
        }
      ]
    },
    {
      "cell_type": "markdown",
      "source": [
        "# **Training the RNN**\n",
        "\n",
        "- Use **EarlyStopping** to stop training if **validation loss** doesn’t improve for 6 epochs.  \n",
        "- Train on **X_train/y_train**, validate on **X_test/y_test** for **20 epochs** with batch size 8.  \n",
        "- Restore the **best weights** automatically to prevent overfitting.\n"
      ],
      "metadata": {
        "id": "u_78iXe34J_H"
      }
    },
    {
      "cell_type": "code",
      "source": [
        "es = tf.keras.callbacks.EarlyStopping(patience=6, restore_best_weights=True, monitor=\"val_loss\")\n",
        "history = model.fit(\n",
        "    X_train, y_train,\n",
        "    validation_data=(X_test, y_test),\n",
        "    epochs=20, batch_size=8, callbacks=[es], verbose=1\n",
        ")"
      ],
      "metadata": {
        "colab": {
          "base_uri": "https://localhost:8080/"
        },
        "id": "PpVJB-5xxQ_w",
        "outputId": "8805a66e-d7f3-4672-c746-fad1c8152e8c"
      },
      "execution_count": 86,
      "outputs": [
        {
          "output_type": "stream",
          "name": "stdout",
          "text": [
            "Epoch 1/20\n",
            "\u001b[1m11/11\u001b[0m \u001b[32m━━━━━━━━━━━━━━━━━━━━\u001b[0m\u001b[37m\u001b[0m \u001b[1m0s\u001b[0m 24ms/step - accuracy: 0.8559 - loss: 0.4237 - val_accuracy: 0.7727 - val_loss: 0.4777\n",
            "Epoch 2/20\n",
            "\u001b[1m11/11\u001b[0m \u001b[32m━━━━━━━━━━━━━━━━━━━━\u001b[0m\u001b[37m\u001b[0m \u001b[1m0s\u001b[0m 20ms/step - accuracy: 0.9017 - loss: 0.2948 - val_accuracy: 0.6818 - val_loss: 0.4943\n",
            "Epoch 3/20\n",
            "\u001b[1m11/11\u001b[0m \u001b[32m━━━━━━━━━━━━━━━━━━━━\u001b[0m\u001b[37m\u001b[0m \u001b[1m0s\u001b[0m 19ms/step - accuracy: 0.9243 - loss: 0.2319 - val_accuracy: 0.7273 - val_loss: 0.4677\n",
            "Epoch 4/20\n",
            "\u001b[1m11/11\u001b[0m \u001b[32m━━━━━━━━━━━━━━━━━━━━\u001b[0m\u001b[37m\u001b[0m \u001b[1m0s\u001b[0m 17ms/step - accuracy: 0.9634 - loss: 0.1902 - val_accuracy: 0.8182 - val_loss: 0.5129\n",
            "Epoch 5/20\n",
            "\u001b[1m11/11\u001b[0m \u001b[32m━━━━━━━━━━━━━━━━━━━━\u001b[0m\u001b[37m\u001b[0m \u001b[1m0s\u001b[0m 17ms/step - accuracy: 0.9357 - loss: 0.1795 - val_accuracy: 0.8182 - val_loss: 0.4908\n",
            "Epoch 6/20\n",
            "\u001b[1m11/11\u001b[0m \u001b[32m━━━━━━━━━━━━━━━━━━━━\u001b[0m\u001b[37m\u001b[0m \u001b[1m0s\u001b[0m 21ms/step - accuracy: 0.9372 - loss: 0.1609 - val_accuracy: 0.7727 - val_loss: 0.4694\n",
            "Epoch 7/20\n",
            "\u001b[1m11/11\u001b[0m \u001b[32m━━━━━━━━━━━━━━━━━━━━\u001b[0m\u001b[37m\u001b[0m \u001b[1m0s\u001b[0m 18ms/step - accuracy: 0.9860 - loss: 0.1346 - val_accuracy: 0.7727 - val_loss: 0.3708\n",
            "Epoch 8/20\n",
            "\u001b[1m11/11\u001b[0m \u001b[32m━━━━━━━━━━━━━━━━━━━━\u001b[0m\u001b[37m\u001b[0m \u001b[1m0s\u001b[0m 20ms/step - accuracy: 0.9930 - loss: 0.1029 - val_accuracy: 0.8182 - val_loss: 0.4223\n",
            "Epoch 9/20\n",
            "\u001b[1m11/11\u001b[0m \u001b[32m━━━━━━━━━━━━━━━━━━━━\u001b[0m\u001b[37m\u001b[0m \u001b[1m0s\u001b[0m 24ms/step - accuracy: 0.9930 - loss: 0.1012 - val_accuracy: 0.8182 - val_loss: 0.4153\n",
            "Epoch 10/20\n",
            "\u001b[1m11/11\u001b[0m \u001b[32m━━━━━━━━━━━━━━━━━━━━\u001b[0m\u001b[37m\u001b[0m \u001b[1m0s\u001b[0m 23ms/step - accuracy: 0.9970 - loss: 0.0702 - val_accuracy: 0.8182 - val_loss: 0.3954\n",
            "Epoch 11/20\n",
            "\u001b[1m11/11\u001b[0m \u001b[32m━━━━━━━━━━━━━━━━━━━━\u001b[0m\u001b[37m\u001b[0m \u001b[1m0s\u001b[0m 23ms/step - accuracy: 1.0000 - loss: 0.0513 - val_accuracy: 0.7273 - val_loss: 0.4963\n",
            "Epoch 12/20\n",
            "\u001b[1m11/11\u001b[0m \u001b[32m━━━━━━━━━━━━━━━━━━━━\u001b[0m\u001b[37m\u001b[0m \u001b[1m0s\u001b[0m 22ms/step - accuracy: 0.9144 - loss: 0.1938 - val_accuracy: 0.7273 - val_loss: 0.5978\n",
            "Epoch 13/20\n",
            "\u001b[1m11/11\u001b[0m \u001b[32m━━━━━━━━━━━━━━━━━━━━\u001b[0m\u001b[37m\u001b[0m \u001b[1m0s\u001b[0m 21ms/step - accuracy: 0.9124 - loss: 0.2042 - val_accuracy: 0.6818 - val_loss: 0.6211\n"
          ]
        }
      ]
    },
    {
      "cell_type": "markdown",
      "source": [
        "# **Evaluating the Model**\n",
        "\n",
        "- Predict probabilities on **X_test** and convert to binary labels (`0/1`).  \n",
        "- Print **classification report** showing precision, recall, F1-score.  \n",
        "- Plot **confusion matrix** with Seaborn to visualize correct and incorrect predictions.\n"
      ],
      "metadata": {
        "id": "nmu7u2_34Qv-"
      }
    },
    {
      "cell_type": "code",
      "source": [
        "probs = model.predict(X_test).ravel()\n",
        "y_pred = (probs >= 0.5).astype(\"int32\")\n",
        "\n",
        "print(\"\\nClassification report\\n\", classification_report(y_test, y_pred, target_names=[\"Non-Promoter\",\"Promoter\"]))\n",
        "\n",
        "cm = confusion_matrix(y_test, y_pred)\n",
        "plt.figure(figsize=(6,5))\n",
        "sns.heatmap(cm, annot=True, fmt=\"d\", cmap=\"Blues\",\n",
        "            xticklabels=[\"Non-Promoter\",\"Promoter\"],\n",
        "            yticklabels=[\"Non-Promoter\",\"Promoter\"])\n",
        "plt.xlabel(\"Predicted\"); plt.ylabel(\"Actual\"); plt.title(\"Confusion Matrix – Promoter Classification\")\n",
        "plt.show()"
      ],
      "metadata": {
        "colab": {
          "base_uri": "https://localhost:8080/",
          "height": 695
        },
        "id": "wH0S6RHRxkXG",
        "outputId": "bc08380a-02fc-49c6-d917-d73ba842cf6e"
      },
      "execution_count": 87,
      "outputs": [
        {
          "output_type": "stream",
          "name": "stdout",
          "text": [
            "\u001b[1m1/1\u001b[0m \u001b[32m━━━━━━━━━━━━━━━━━━━━\u001b[0m\u001b[37m\u001b[0m \u001b[1m0s\u001b[0m 32ms/step\n",
            "\n",
            "Classification report\n",
            "               precision    recall  f1-score   support\n",
            "\n",
            "Non-Promoter       0.80      0.73      0.76        11\n",
            "    Promoter       0.75      0.82      0.78        11\n",
            "\n",
            "    accuracy                           0.77        22\n",
            "   macro avg       0.78      0.77      0.77        22\n",
            "weighted avg       0.78      0.77      0.77        22\n",
            "\n"
          ]
        },
        {
          "output_type": "display_data",
          "data": {
            "text/plain": [
              "<Figure size 600x500 with 2 Axes>"
            ],
            "image/png": "[encoded data removed]"
          },
          "metadata": {}
        }
      ]
    },
    {
      "cell_type": "markdown",
      "source": [
        "# **📈 Training Curves**\n",
        "\n",
        "- Plot **accuracy** and **loss** for both training and validation sets over epochs.  \n",
        "- Helps visualize **model performance** and check for **overfitting or underfitting**.\n"
      ],
      "metadata": {
        "id": "l05SMwQI4aws"
      }
    },
    {
      "cell_type": "code",
      "source": [
        "plt.plot(history.history['accuracy'], label='Train Acc')\n",
        "plt.plot(history.history['val_accuracy'], label='Val Acc')\n",
        "plt.legend()\n",
        "plt.title(\"Accuracy Curve\")\n",
        "plt.show()\n",
        "\n",
        "plt.plot(history.history['loss'], label='Train Loss')\n",
        "plt.plot(history.history['val_loss'], label='Val Loss')\n",
        "plt.legend()\n",
        "plt.title(\"Loss Curve\")\n",
        "plt.show()"
      ],
      "metadata": {
        "colab": {
          "base_uri": "https://localhost:8080/",
          "height": 887
        },
        "id": "zG09fvzHxswJ",
        "outputId": "3b356764-c2e6-4aca-bb1e-7841d12c0323"
      },
      "execution_count": 88,
      "outputs": [
        {
          "output_type": "display_data",
          "data": {
            "text/plain": [
              "<Figure size 640x480 with 1 Axes>"
            ],
            "image/png": "[encoded data removed]"
          },
          "metadata": {}
        },
        {
          "output_type": "display_data",
          "data": {
            "text/plain": [
              "<Figure size 640x480 with 1 Axes>"
            ],
            "image/png": "[encoded data removed]"
          },
          "metadata": {}
        }
      ]
    },
    {
      "cell_type": "markdown",
      "source": [
        "# **Final Model Evaluation**\n",
        "\n",
        "- Evaluate the model on **test data** to get final **loss** and **accuracy**.  \n",
        "- Print **test accuracy** as a percentage.\n"
      ],
      "metadata": {
        "id": "xJMfhoLS4jym"
      }
    },
    {
      "cell_type": "code",
      "source": [
        "loss, acc = model.evaluate(X_test, y_test)\n",
        "print(f\" Final Test Accuracy: {acc:.2%}\")"
      ],
      "metadata": {
        "colab": {
          "base_uri": "https://localhost:8080/"
        },
        "id": "nKKLebutx9Qn",
        "outputId": "64c215a4-cf9d-40c3-bfcc-1d99d00aaefa"
      },
      "execution_count": 95,
      "outputs": [
        {
          "output_type": "stream",
          "name": "stdout",
          "text": [
            "\u001b[1m1/1\u001b[0m \u001b[32m━━━━━━━━━━━━━━━━━━━━\u001b[0m\u001b[37m\u001b[0m \u001b[1m0s\u001b[0m 37ms/step - accuracy: 0.7727 - loss: 0.3708\n",
            " Final Test Accuracy: 77.27%\n"
          ]
        }
      ]
    },
    {
      "cell_type": "markdown",
      "source": [
        "# **Predicting New DNA Sequences**\n",
        "\n",
        "- Define `predict_sequence` to **encode, pad, and predict** a DNA sequence.  \n",
        "- Outputs: **input snippet**, **probabilities for promoter/non-promoter**, and **final prediction**.  \n",
        "- Example predictions are shown for two test sequences.\n"
      ],
      "metadata": {
        "id": "9dVzUbEf5JlV"
      }
    },
    {
      "cell_type": "code",
      "source": [
        "def predict_sequence(seq, model, maxlen):\n",
        "    mapping = {\"a\": 0, \"c\": 1, \"g\": 2, \"t\": 3}\n",
        "    encoded = [mapping[b] for b in seq.lower() if b in mapping]\n",
        "    x = tf.keras.preprocessing.sequence.pad_sequences([encoded], maxlen=maxlen, padding=\"post\")\n",
        "    prob = model.predict(x, verbose=0)[0][0]\n",
        "\n",
        "    print(\"DNA Sequence Test Result\")\n",
        "    print(f\"🧬 Input Sequence: {seq[:50]}... (len={len(seq)})\")\n",
        "    print(f\" Probability (Promoter): {prob:.2f}\")\n",
        "    print(f\" Probability (Non-Promoter): {1-prob:.2f}\")\n",
        "    print(\" Prediction:\", \"Promoter\" if prob >= 0.5 else \"Non-Promoter\")\n",
        "\n",
        "\n",
        "predict_sequence(\"tactagcaatacgcttgcgttcggtggttaagtatgtataatgcgcgggcttgtcgt\", model, X.shape[1])\n",
        "\n",
        "predict_sequence(\"gtgctaatcgcgttaggccttatcgcttgcacgatcagcttgtgcttccggcgatat\", model, X.shape[1])\n"
      ],
      "metadata": {
        "colab": {
          "base_uri": "https://localhost:8080/"
        },
        "id": "1vHhyS7Z1FVU",
        "outputId": "dacd2693-dd39-4ee9-8216-fba569362583"
      },
      "execution_count": 104,
      "outputs": [
        {
          "output_type": "stream",
          "name": "stdout",
          "text": [
            "DNA Sequence Test Result\n",
            "🧬 Input Sequence: tactagcaatacgcttgcgttcggtggttaagtatgtataatgcgcgggc... (len=57)\n",
            " Probability (Promoter): 0.95\n",
            " Probability (Non-Promoter): 0.05\n",
            " Prediction: Promoter\n",
            "DNA Sequence Test Result\n",
            "🧬 Input Sequence: gtgctaatcgcgttaggccttatcgcttgcacgatcagcttgtgcttccg... (len=57)\n",
            " Probability (Promoter): 0.36\n",
            " Probability (Non-Promoter): 0.64\n",
            " Prediction: Non-Promoter\n"
          ]
        }
      ]
    }
  ]
}