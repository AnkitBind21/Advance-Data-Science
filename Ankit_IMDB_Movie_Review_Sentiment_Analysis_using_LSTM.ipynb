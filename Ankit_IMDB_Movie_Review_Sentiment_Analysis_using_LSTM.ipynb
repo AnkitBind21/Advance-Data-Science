{
  "cells": [
    {
      "cell_type": "markdown",
      "source": [
        "# **Load IMDB Dataset**\n",
        "\n",
        "## 1. Import Libraries\n",
        "We import **Pandas** for handling and analyzing tabular data.\n",
        "\n",
        "## 2. Load Dataset\n",
        "- Load the IMDB dataset (`IMDB Dataset.csv`) from the given path.  \n",
        "- The dataset contains **50,000 movie reviews** with their sentiment labels (`positive` or `negative`).  \n",
        "\n",
        "## 3. Preview Data\n",
        "- `df.head()` → Shows the first 5 rows of the dataset.  \n",
        "- `df['sentiment'].value_counts()` → Displays the count of positive and negative reviews in the dataset.  \n"
      ],
      "metadata": {
        "id": "A9k-XzQ1So_J"
      }
    },
    {
      "cell_type": "code",
      "execution_count": 1,
      "metadata": {
        "colab": {
          "base_uri": "https://localhost:8080/"
        },
        "id": "YugKYh2LKpGq",
        "outputId": "96296190-64d0-45c2-adbe-73ac34d4e3b1"
      },
      "outputs": [
        {
          "output_type": "stream",
          "name": "stdout",
          "text": [
            "                                              review sentiment\n",
            "0  One of the other reviewers has mentioned that ...  positive\n",
            "1  A wonderful little production. <br /><br />The...  positive\n",
            "2  I thought this was a wonderful way to spend ti...  positive\n",
            "3  Basically there's a family where a little boy ...  negative\n",
            "4  Petter Mattei's \"Love in the Time of Money\" is...  positive\n",
            "sentiment\n",
            "positive    25000\n",
            "negative    25000\n",
            "Name: count, dtype: int64\n"
          ]
        }
      ],
      "source": [
        "import pandas as pd\n",
        "\n",
        "# Load dataset\n",
        "df = pd.read_csv('/content/IMDB Dataset.csv')\n",
        "\n",
        "# Preview\n",
        "print(df.head())\n",
        "print(df['sentiment'].value_counts())\n"
      ]
    },
    {
      "cell_type": "markdown",
      "source": [
        "# **Text Preprocessing**\n",
        "\n",
        "- **Tokenizer** → Converts reviews into integer sequences.  \n",
        "- **oov_token=\"<OOV>\"** → Handles unknown words.  \n",
        "- **pad_sequences** → Pads/truncates all reviews to length = 200.  \n",
        "- **Final output** = numerical sequences ready for LSTM input.  \n"
      ],
      "metadata": {
        "id": "IsoNkE2ESsHh"
      }
    },
    {
      "cell_type": "code",
      "execution_count": 2,
      "metadata": {
        "id": "OcvoVZjeSmsD"
      },
      "outputs": [],
      "source": [
        "from tensorflow.keras.preprocessing.text import Tokenizer\n",
        "from tensorflow.keras.preprocessing.sequence import pad_sequences\n",
        "\n",
        "# Parameters\n",
        "vocab_size = 10000\n",
        "max_len = 200\n",
        "\n",
        "# Tokenize reviews\n",
        "tokenizer = Tokenizer(num_words=vocab_size, oov_token=\"<OOV>\")\n",
        "tokenizer.fit_on_texts(df['review'])\n",
        "sequences = tokenizer.texts_to_sequences(df['review'])\n",
        "padded_sequences = pad_sequences(sequences, maxlen=max_len, padding='post')\n"
      ]
    },
    {
      "cell_type": "markdown",
      "source": [
        "# **Label Encoding**\n",
        "\n",
        "- Use **LabelEncoder** to convert sentiment labels into numeric form.  \n",
        "- `positive → 1`, `negative → 0`  \n",
        "- These encoded labels will be used for training the LSTM model.  \n"
      ],
      "metadata": {
        "id": "gGqHA1nNSxuP"
      }
    },
    {
      "cell_type": "code",
      "execution_count": 3,
      "metadata": {
        "id": "7ZITGNqYSqwa"
      },
      "outputs": [],
      "source": [
        "from sklearn.preprocessing import LabelEncoder\n",
        "\n",
        "le = LabelEncoder()\n",
        "labels = le.fit_transform(df['sentiment'])  # Positive=1, Negative=0\n"
      ]
    },
    {
      "cell_type": "markdown",
      "source": [
        "# **Train-Test Split**\n",
        "\n",
        "- Split data into **training (80%)** and **testing (20%)** sets.  \n",
        "- `X_train, y_train` → Used for training the model.  \n",
        "- `X_test, y_test` → Used for evaluating performance.  \n",
        "- `random_state=42` ensures reproducibility.  \n"
      ],
      "metadata": {
        "id": "vYRNYrpeS3op"
      }
    },
    {
      "cell_type": "code",
      "execution_count": 4,
      "metadata": {
        "id": "WoDkEqY2SvVC"
      },
      "outputs": [],
      "source": [
        "from sklearn.model_selection import train_test_split\n",
        "\n",
        "X_train, X_test, y_train, y_test = train_test_split(\n",
        "    padded_sequences, labels, test_size=0.2, random_state=42\n",
        ")\n"
      ]
    },
    {
      "cell_type": "markdown",
      "source": [
        "# **Build LSTM Model**\n",
        "\n",
        "- **Embedding Layer** → Converts words into 64-dimensional vectors.  \n",
        "- **LSTM Layer (64 units)** → Learns sequential patterns in reviews.  \n",
        "  - `dropout=0.2` → Prevents overfitting.  \n",
        "  - `recurrent_dropout=0.2` → Dropout for LSTM connections.  \n",
        "- **Dense Layer** → Sigmoid activation for binary classification (Positive/Negative).  \n",
        "\n",
        "**Compilation:**  \n",
        "- Loss = `binary_crossentropy` (for 2 classes).  \n",
        "- Optimizer = `adam`.  \n",
        "- Metric = `accuracy`.  \n"
      ],
      "metadata": {
        "id": "dZUjPvuGTKwx"
      }
    },
    {
      "cell_type": "code",
      "execution_count": 5,
      "metadata": {
        "colab": {
          "base_uri": "https://localhost:8080/",
          "height": 260
        },
        "id": "A8wG7ru2Sx8C",
        "outputId": "51fcc217-8b6d-485c-88a6-d6eb1e49e265"
      },
      "outputs": [
        {
          "output_type": "stream",
          "name": "stderr",
          "text": [
            "/usr/local/lib/python3.12/dist-packages/keras/src/layers/core/embedding.py:97: UserWarning: Argument `input_length` is deprecated. Just remove it.\n",
            "  warnings.warn(\n"
          ]
        },
        {
          "output_type": "display_data",
          "data": {
            "text/plain": [
              "\u001b[1mModel: \"sequential\"\u001b[0m\n"
            ],
            "text/html": [
              "<pre style=\"white-space:pre;overflow-x:auto;line-height:normal;font-family:Menlo,'DejaVu Sans Mono',consolas,'Courier New',monospace\"><span style=\"font-weight: bold\">Model: \"sequential\"</span>\n",
              "</pre>\n"
            ]
          },
          "metadata": {}
        },
        {
          "output_type": "display_data",
          "data": {
            "text/plain": [
              "┏━━━━━━━━━━━━━━━━━━━━━━━━━━━━━━━━━┳━━━━━━━━━━━━━━━━━━━━━━━━┳━━━━━━━━━━━━━━━┓\n",
              "┃\u001b[1m \u001b[0m\u001b[1mLayer (type)                   \u001b[0m\u001b[1m \u001b[0m┃\u001b[1m \u001b[0m\u001b[1mOutput Shape          \u001b[0m\u001b[1m \u001b[0m┃\u001b[1m \u001b[0m\u001b[1m      Param #\u001b[0m\u001b[1m \u001b[0m┃\n",
              "┡━━━━━━━━━━━━━━━━━━━━━━━━━━━━━━━━━╇━━━━━━━━━━━━━━━━━━━━━━━━╇━━━━━━━━━━━━━━━┩\n",
              "│ embedding (\u001b[38;5;33mEmbedding\u001b[0m)           │ ?                      │   \u001b[38;5;34m0\u001b[0m (unbuilt) │\n",
              "├─────────────────────────────────┼────────────────────────┼───────────────┤\n",
              "│ lstm (\u001b[38;5;33mLSTM\u001b[0m)                     │ ?                      │   \u001b[38;5;34m0\u001b[0m (unbuilt) │\n",
              "├─────────────────────────────────┼────────────────────────┼───────────────┤\n",
              "│ dense (\u001b[38;5;33mDense\u001b[0m)                   │ ?                      │   \u001b[38;5;34m0\u001b[0m (unbuilt) │\n",
              "└─────────────────────────────────┴────────────────────────┴───────────────┘\n"
            ],
            "text/html": [
              "<pre style=\"white-space:pre;overflow-x:auto;line-height:normal;font-family:Menlo,'DejaVu Sans Mono',consolas,'Courier New',monospace\">┏━━━━━━━━━━━━━━━━━━━━━━━━━━━━━━━━━┳━━━━━━━━━━━━━━━━━━━━━━━━┳━━━━━━━━━━━━━━━┓\n",
              "┃<span style=\"font-weight: bold\"> Layer (type)                    </span>┃<span style=\"font-weight: bold\"> Output Shape           </span>┃<span style=\"font-weight: bold\">       Param # </span>┃\n",
              "┡━━━━━━━━━━━━━━━━━━━━━━━━━━━━━━━━━╇━━━━━━━━━━━━━━━━━━━━━━━━╇━━━━━━━━━━━━━━━┩\n",
              "│ embedding (<span style=\"color: #0087ff; text-decoration-color: #0087ff\">Embedding</span>)           │ ?                      │   <span style=\"color: #00af00; text-decoration-color: #00af00\">0</span> (unbuilt) │\n",
              "├─────────────────────────────────┼────────────────────────┼───────────────┤\n",
              "│ lstm (<span style=\"color: #0087ff; text-decoration-color: #0087ff\">LSTM</span>)                     │ ?                      │   <span style=\"color: #00af00; text-decoration-color: #00af00\">0</span> (unbuilt) │\n",
              "├─────────────────────────────────┼────────────────────────┼───────────────┤\n",
              "│ dense (<span style=\"color: #0087ff; text-decoration-color: #0087ff\">Dense</span>)                   │ ?                      │   <span style=\"color: #00af00; text-decoration-color: #00af00\">0</span> (unbuilt) │\n",
              "└─────────────────────────────────┴────────────────────────┴───────────────┘\n",
              "</pre>\n"
            ]
          },
          "metadata": {}
        },
        {
          "output_type": "display_data",
          "data": {
            "text/plain": [
              "\u001b[1m Total params: \u001b[0m\u001b[38;5;34m0\u001b[0m (0.00 B)\n"
            ],
            "text/html": [
              "<pre style=\"white-space:pre;overflow-x:auto;line-height:normal;font-family:Menlo,'DejaVu Sans Mono',consolas,'Courier New',monospace\"><span style=\"font-weight: bold\"> Total params: </span><span style=\"color: #00af00; text-decoration-color: #00af00\">0</span> (0.00 B)\n",
              "</pre>\n"
            ]
          },
          "metadata": {}
        },
        {
          "output_type": "display_data",
          "data": {
            "text/plain": [
              "\u001b[1m Trainable params: \u001b[0m\u001b[38;5;34m0\u001b[0m (0.00 B)\n"
            ],
            "text/html": [
              "<pre style=\"white-space:pre;overflow-x:auto;line-height:normal;font-family:Menlo,'DejaVu Sans Mono',consolas,'Courier New',monospace\"><span style=\"font-weight: bold\"> Trainable params: </span><span style=\"color: #00af00; text-decoration-color: #00af00\">0</span> (0.00 B)\n",
              "</pre>\n"
            ]
          },
          "metadata": {}
        },
        {
          "output_type": "display_data",
          "data": {
            "text/plain": [
              "\u001b[1m Non-trainable params: \u001b[0m\u001b[38;5;34m0\u001b[0m (0.00 B)\n"
            ],
            "text/html": [
              "<pre style=\"white-space:pre;overflow-x:auto;line-height:normal;font-family:Menlo,'DejaVu Sans Mono',consolas,'Courier New',monospace\"><span style=\"font-weight: bold\"> Non-trainable params: </span><span style=\"color: #00af00; text-decoration-color: #00af00\">0</span> (0.00 B)\n",
              "</pre>\n"
            ]
          },
          "metadata": {}
        }
      ],
      "source": [
        "from tensorflow.keras.models import Sequential\n",
        "from tensorflow.keras.layers import Embedding, LSTM, Dense, Dropout\n",
        "\n",
        "model = Sequential([\n",
        "    Embedding(vocab_size, 64, input_length=max_len),\n",
        "    LSTM(64, dropout=0.2, recurrent_dropout=0.2),\n",
        "    Dense(1, activation='sigmoid')\n",
        "])\n",
        "\n",
        "model.compile(loss='binary_crossentropy', optimizer='adam', metrics=['accuracy'])\n",
        "model.summary()\n"
      ]
    },
    {
      "cell_type": "markdown",
      "source": [
        "# **Train the Model**\n",
        "\n",
        "- Train the LSTM model using training data.  \n",
        "- **epochs=5** → Run 5 passes over the dataset.  \n",
        "- **batch_size=64** → Process 64 samples per update.  \n",
        "- **validation_data** → Evaluate performance on test set after each epoch.  \n",
        "\n",
        "The training progress (loss & accuracy) is stored in `history`.  \n"
      ],
      "metadata": {
        "id": "X71xfQGkTPbC"
      }
    },
    {
      "cell_type": "code",
      "execution_count": 6,
      "metadata": {
        "colab": {
          "base_uri": "https://localhost:8080/"
        },
        "id": "mu_qr1njS1Aa",
        "outputId": "364e6118-722b-4d26-ed37-70d2104b71e3"
      },
      "outputs": [
        {
          "output_type": "stream",
          "name": "stdout",
          "text": [
            "Epoch 1/5\n",
            "\u001b[1m625/625\u001b[0m \u001b[32m━━━━━━━━━━━━━━━━━━━━\u001b[0m\u001b[37m\u001b[0m \u001b[1m256s\u001b[0m 392ms/step - accuracy: 0.5706 - loss: 0.6620 - val_accuracy: 0.6614 - val_loss: 0.6107\n",
            "Epoch 2/5\n",
            "\u001b[1m625/625\u001b[0m \u001b[32m━━━━━━━━━━━━━━━━━━━━\u001b[0m\u001b[37m\u001b[0m \u001b[1m256s\u001b[0m 392ms/step - accuracy: 0.7041 - loss: 0.5383 - val_accuracy: 0.8820 - val_loss: 0.2932\n",
            "Epoch 3/5\n",
            "\u001b[1m625/625\u001b[0m \u001b[32m━━━━━━━━━━━━━━━━━━━━\u001b[0m\u001b[37m\u001b[0m \u001b[1m263s\u001b[0m 393ms/step - accuracy: 0.8976 - loss: 0.2646 - val_accuracy: 0.8934 - val_loss: 0.2703\n",
            "Epoch 4/5\n",
            "\u001b[1m625/625\u001b[0m \u001b[32m━━━━━━━━━━━━━━━━━━━━\u001b[0m\u001b[37m\u001b[0m \u001b[1m264s\u001b[0m 396ms/step - accuracy: 0.9295 - loss: 0.1995 - val_accuracy: 0.8975 - val_loss: 0.2627\n",
            "Epoch 5/5\n",
            "\u001b[1m625/625\u001b[0m \u001b[32m━━━━━━━━━━━━━━━━━━━━\u001b[0m\u001b[37m\u001b[0m \u001b[1m261s\u001b[0m 395ms/step - accuracy: 0.9093 - loss: 0.2206 - val_accuracy: 0.8936 - val_loss: 0.2807\n"
          ]
        }
      ],
      "source": [
        "history = model.fit(X_train, y_train, epochs=5, batch_size=64,\n",
        "                    validation_data=(X_test, y_test))\n"
      ]
    },
    {
      "cell_type": "markdown",
      "source": [
        "# **Training Visualization**\n",
        "\n",
        "## Accuracy Graph\n",
        "- Plots **Training Accuracy** vs **Validation Accuracy** across epochs.  \n",
        "- Helps check if the model is learning and generalizing well.  \n",
        "\n",
        "## Loss Graph\n",
        "- Plots **Training Loss** vs **Validation Loss** across epochs.  \n",
        "- Useful for detecting **overfitting** or **underfitting**.  \n"
      ],
      "metadata": {
        "id": "LT4-NKkZTTu6"
      }
    },
    {
      "cell_type": "code",
      "source": [
        "import matplotlib.pyplot as plt\n",
        "import seaborn as sns\n",
        "from sklearn.metrics import confusion_matrix, classification_report\n",
        "\n",
        "# 1. Accuracy & Loss Graphs\n",
        "plt.figure(figsize=(12,4))\n",
        "\n",
        "# Accuracy Plot\n",
        "plt.subplot(1,2,1)\n",
        "plt.plot(history.history['accuracy'], label='Train Accuracy')\n",
        "plt.plot(history.history['val_accuracy'], label='Val Accuracy')\n",
        "plt.title(\"Model Accuracy\")\n",
        "plt.xlabel(\"Epochs\")\n",
        "plt.ylabel(\"Accuracy\")\n",
        "plt.legend()\n",
        "\n",
        "# Loss Plot\n",
        "plt.subplot(1,2,2)\n",
        "plt.plot(history.history['loss'], label='Train Loss')\n",
        "plt.plot(history.history['val_loss'], label='Val Loss')\n",
        "plt.title(\"Model Loss\")\n",
        "plt.xlabel(\"Epochs\")\n",
        "plt.ylabel(\"Loss\")\n",
        "plt.legend()\n",
        "\n",
        "plt.show()\n"
      ],
      "metadata": {
        "colab": {
          "base_uri": "https://localhost:8080/",
          "height": 410
        },
        "id": "xT1mxKs4RRNa",
        "outputId": "3f842352-b396-4e32-d13a-007c394bd028"
      },
      "execution_count": 8,
      "outputs": [
        {
          "output_type": "display_data",
          "data": {
            "text/plain": [
              "<Figure size 1200x400 with 2 Axes>"
            ],
            "image/png": "[encoded data removed]"
          },
          "metadata": {}
        }
      ]
    },
    {
      "cell_type": "markdown",
      "source": [
        "# **Model Evaluation**\n",
        "\n",
        "## Confusion Matrix\n",
        "- Compares **Actual vs Predicted** labels.  \n",
        "- Shows how many reviews were correctly or incorrectly classified as **Positive/Negative**.  \n",
        "- Visualized using a heatmap for clarity.  \n",
        "\n",
        "## Classification Report\n",
        "- Displays **Precision, Recall, F1-Score, and Accuracy** for both classes.  \n",
        "- Helps understand model performance in detail.  \n"
      ],
      "metadata": {
        "id": "SqyuxRdTTY3T"
      }
    },
    {
      "cell_type": "code",
      "source": [
        "# Predictions\n",
        "y_pred = (model.predict(X_test) > 0.5).astype(\"int32\")\n",
        "\n",
        "# Confusion Matrix\n",
        "cm = confusion_matrix(y_test, y_pred)\n",
        "\n",
        "plt.figure(figsize=(6,5))\n",
        "sns.heatmap(\n",
        "    cm,\n",
        "    annot=True,\n",
        "    fmt='d',\n",
        "    cmap=\"Blues\",\n",
        "    xticklabels=[\"Negative\", \"Positive\"],\n",
        "    yticklabels=[\"Negative\", \"Positive\"]\n",
        ")\n",
        "plt.title(\"Confusion Matrix\")\n",
        "plt.xlabel(\"Predicted\")\n",
        "plt.ylabel(\"Actual\")\n",
        "plt.show()\n",
        "\n",
        "# Classification Report\n",
        "print(\"Classification Report:\\n\")\n",
        "print(classification_report(y_test, y_pred, target_names=[\"Negative\", \"Positive\"]))\n"
      ],
      "metadata": {
        "colab": {
          "base_uri": "https://localhost:8080/",
          "height": 695
        },
        "id": "BRjLRi7iSII6",
        "outputId": "9bc2c6ee-2e23-4eac-e52a-fe06aaaa28a5"
      },
      "execution_count": 9,
      "outputs": [
        {
          "output_type": "stream",
          "name": "stdout",
          "text": [
            "\u001b[1m313/313\u001b[0m \u001b[32m━━━━━━━━━━━━━━━━━━━━\u001b[0m\u001b[37m\u001b[0m \u001b[1m36s\u001b[0m 115ms/step\n"
          ]
        },
        {
          "output_type": "display_data",
          "data": {
            "text/plain": [
              "<Figure size 600x500 with 2 Axes>"
            ],
            "image/png": "[encoded data removed]"
          },
          "metadata": {}
        },
        {
          "output_type": "stream",
          "name": "stdout",
          "text": [
            "Classification Report:\n",
            "\n",
            "              precision    recall  f1-score   support\n",
            "\n",
            "    Negative       0.88      0.90      0.89      4961\n",
            "    Positive       0.90      0.88      0.89      5039\n",
            "\n",
            "    accuracy                           0.89     10000\n",
            "   macro avg       0.89      0.89      0.89     10000\n",
            "weighted avg       0.89      0.89      0.89     10000\n",
            "\n"
          ]
        }
      ]
    },
    {
      "cell_type": "markdown",
      "source": [
        "# **Final Model Evaluation**\n",
        "\n",
        "- `model.evaluate()` → Tests the trained model on unseen **test data**.  \n",
        "- Returns **loss** and **accuracy**.  \n",
        "- Final accuracy is printed as a percentage.  \n"
      ],
      "metadata": {
        "id": "eCOQ44tqTeI5"
      }
    },
    {
      "cell_type": "code",
      "source": [
        "loss, acc = model.evaluate(X_test, y_test)\n",
        "print(f\"Final Test Accuracy: {acc:.2%}\")\n"
      ],
      "metadata": {
        "colab": {
          "base_uri": "https://localhost:8080/"
        },
        "id": "rItnDiI4SOP6",
        "outputId": "89420ccf-8055-446e-e89d-a3b4324001fe"
      },
      "execution_count": 10,
      "outputs": [
        {
          "output_type": "stream",
          "name": "stdout",
          "text": [
            "\u001b[1m313/313\u001b[0m \u001b[32m━━━━━━━━━━━━━━━━━━━━\u001b[0m\u001b[37m\u001b[0m \u001b[1m37s\u001b[0m 118ms/step - accuracy: 0.8931 - loss: 0.2812\n",
            "Final Test Accuracy: 89.36%\n"
          ]
        }
      ]
    },
    {
      "cell_type": "markdown",
      "source": [
        "# **Prediction Function Explanation**\n",
        "\n",
        "- **Input text → sequence** using tokenizer.  \n",
        "- **Pad sequence** to fixed length (`max_len`).  \n",
        "- **Model predicts probability** (0 → Negative, 1 → Positive).  \n",
        "- Threshold `0.5`:  \n",
        "  - > 0.5 → Positive 😀  \n",
        "  - ≤ 0.5 → Negative 😞  \n",
        "- Prints review, prediction, and score.  \n"
      ],
      "metadata": {
        "id": "UngqdaiQThTG"
      }
    },
    {
      "cell_type": "code",
      "source": [
        "from tensorflow.keras.preprocessing.sequence import pad_sequences\n",
        "\n",
        "\n",
        "def predict_review(model, tokenizer, text, max_len=200):\n",
        "    # Convert text to sequence\n",
        "    seq = tokenizer.texts_to_sequences([text])\n",
        "\n",
        "    # Pad the sequence\n",
        "    padded = pad_sequences(seq, maxlen=max_len, padding='post')\n",
        "\n",
        "    # Get prediction\n",
        "    pred = model.predict(padded)[0][0]\n",
        "\n",
        "    # Decide sentiment\n",
        "    sentiment = \"Positive 😀\" if pred > 0.5 else \"Negative 😞\"\n",
        "\n",
        "    # Print result\n",
        "    print(f\"Review: {text}\")\n",
        "    print(f\"Prediction: {sentiment} (score={pred:.2f})\\n\")\n",
        "\n",
        "\n",
        "\n",
        "predict_review(model, tokenizer, \"This movie was fantastic! Loved it, must watch again.\")\n",
        "predict_review(model, tokenizer, \"Worst movie ever, waste of time and money.\")\n",
        "predict_review(model, tokenizer, \"The story was okay, but the acting was great.\")\n"
      ],
      "metadata": {
        "colab": {
          "base_uri": "https://localhost:8080/"
        },
        "id": "PeTiR9i7Sha9",
        "outputId": "c59f757d-7aef-4f24-cb57-20495bac9116"
      },
      "execution_count": 11,
      "outputs": [
        {
          "output_type": "stream",
          "name": "stdout",
          "text": [
            "\u001b[1m1/1\u001b[0m \u001b[32m━━━━━━━━━━━━━━━━━━━━\u001b[0m\u001b[37m\u001b[0m \u001b[1m0s\u001b[0m 298ms/step\n",
            "Review: This movie was fantastic! Loved it, must watch again.\n",
            "Prediction: Positive 😀 (score=0.96)\n",
            "\n",
            "\u001b[1m1/1\u001b[0m \u001b[32m━━━━━━━━━━━━━━━━━━━━\u001b[0m\u001b[37m\u001b[0m \u001b[1m0s\u001b[0m 128ms/step\n",
            "Review: Worst movie ever, waste of time and money.\n",
            "Prediction: Negative 😞 (score=0.02)\n",
            "\n",
            "\u001b[1m1/1\u001b[0m \u001b[32m━━━━━━━━━━━━━━━━━━━━\u001b[0m\u001b[37m\u001b[0m \u001b[1m0s\u001b[0m 141ms/step\n",
            "Review: The story was okay, but the acting was great.\n",
            "Prediction: Negative 😞 (score=0.25)\n",
            "\n"
          ]
        }
      ]
    }
  ],
  "metadata": {
    "accelerator": "GPU",
    "colab": {
      "gpuType": "T4",
      "provenance": []
    },
    "kernelspec": {
      "display_name": "Python 3",
      "name": "python3"
    },
    "language_info": {
      "name": "python"
    }
  },
  "nbformat": 4,
  "nbformat_minor": 0
}