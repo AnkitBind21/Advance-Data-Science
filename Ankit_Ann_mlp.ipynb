{
  "nbformat": 4,
  "nbformat_minor": 0,
  "metadata": {
    "colab": {
      "provenance": []
    },
    "kernelspec": {
      "name": "python3",
      "display_name": "Python 3"
    },
    "language_info": {
      "name": "python"
    }
  },
  "cells": [
    {
      "cell_type": "markdown",
      "source": [
        "# **Import required Libraries**"
      ],
      "metadata": {
        "id": "ynT7S1dTdFIN"
      }
    },
    {
      "cell_type": "code",
      "source": [
        "import numpy as np\n",
        "import matplotlib.pyplot as plt\n",
        "import seaborn as sns\n",
        "from sklearn.datasets import load_breast_cancer\n",
        "from sklearn.model_selection import train_test_split\n",
        "from sklearn.preprocessing import StandardScaler\n",
        "from sklearn.metrics import confusion_matrix, classification_report"
      ],
      "metadata": {
        "id": "J40SNNLUcVgK"
      },
      "execution_count": 38,
      "outputs": []
    },
    {
      "cell_type": "markdown",
      "source": [
        "# **Load Dataset**"
      ],
      "metadata": {
        "id": "FCvbVEn2dbml"
      }
    },
    {
      "cell_type": "code",
      "source": [
        "data = load_breast_cancer()\n",
        "X = data.data\n",
        "y = data.target.reshape(-1, 1)  # Binary classification"
      ],
      "metadata": {
        "id": "NuYkaA0xmqU2"
      },
      "execution_count": 39,
      "outputs": []
    },
    {
      "cell_type": "markdown",
      "source": [
        "# **Normalize**"
      ],
      "metadata": {
        "id": "3BZtAW8OmrLS"
      }
    },
    {
      "cell_type": "code",
      "source": [
        "scaler = StandardScaler()\n",
        "X = scaler.fit_transform(X)"
      ],
      "metadata": {
        "id": "cXKuHC4Smw6S"
      },
      "execution_count": 40,
      "outputs": []
    },
    {
      "cell_type": "markdown",
      "source": [
        "# **Activation Function**"
      ],
      "metadata": {
        "id": "5y-aoWbOmz0U"
      }
    },
    {
      "cell_type": "code",
      "source": [
        "def sigmoid(x):\n",
        "    return 1 / (1 + np.exp(-x))\n",
        "\n",
        "def sigmoid_derivative(x):\n",
        "    return x * (1 - x)"
      ],
      "metadata": {
        "id": "BzflHSVFm46B"
      },
      "execution_count": 41,
      "outputs": []
    },
    {
      "cell_type": "markdown",
      "source": [
        "# **MLP class**"
      ],
      "metadata": {
        "id": "qlqNgmkum7P8"
      }
    },
    {
      "cell_type": "code",
      "source": [
        "class MLP:\n",
        "    def __init__(self, input_dim, hidden_dim, output_dim):\n",
        "        self.weights1 = np.random.randn(input_dim, hidden_dim) * 0.01\n",
        "        self.bias1 = np.zeros((1, hidden_dim))\n",
        "        self.weights2 = np.random.randn(hidden_dim, output_dim) * 0.01\n",
        "        self.bias2 = np.zeros((1, output_dim))\n",
        "        self.loss_history = []  # Track loss over time\n",
        "\n",
        "    def predict(self, X):\n",
        "        z1 = X.dot(self.weights1) + self.bias1\n",
        "        a1 = sigmoid(z1)\n",
        "        z2 = a1.dot(self.weights2) + self.bias2\n",
        "        a2 = sigmoid(z2)\n",
        "        return a2\n",
        "\n",
        "    def train(self, X, y, lr, epochs):\n",
        "        for epoch in range(epochs):\n",
        "            # Forward pass\n",
        "            z1 = X.dot(self.weights1) + self.bias1\n",
        "            a1 = sigmoid(z1)\n",
        "            z2 = a1.dot(self.weights2) + self.bias2\n",
        "            a2 = sigmoid(z2)\n",
        "\n",
        "            # Backpropagation\n",
        "            error = a2 - y\n",
        "            delta2 = error * sigmoid_derivative(a2)\n",
        "            delta1 = delta2.dot(self.weights2.T) * sigmoid_derivative(a1)\n",
        "\n",
        "            # Update weights\n",
        "            self.weights2 -= lr * a1.T.dot(delta2)\n",
        "            self.bias2 -= lr * np.sum(delta2, axis=0, keepdims=True)\n",
        "            self.weights1 -= lr * X.T.dot(delta1)\n",
        "            self.bias1 -= lr * np.sum(delta1, axis=0, keepdims=True)\n",
        "\n",
        "            # Track loss\n",
        "            loss = np.mean(np.square(error))\n",
        "            self.loss_history.append(loss)\n",
        "\n",
        "            if epoch % 100 == 0:\n",
        "                print(f\"Epoch {epoch}, Loss: {loss:.4f}\")"
      ],
      "metadata": {
        "id": "18U59-yMm9Yt"
      },
      "execution_count": 42,
      "outputs": []
    },
    {
      "cell_type": "markdown",
      "source": [
        "# **Train-test split**"
      ],
      "metadata": {
        "id": "y0LtoaiYnA0_"
      }
    },
    {
      "cell_type": "code",
      "source": [
        "X_train, X_test, y_train, y_test = train_test_split(X, y, test_size=0.2, random_state=42)"
      ],
      "metadata": {
        "id": "yxnSiQdfnI9f"
      },
      "execution_count": 43,
      "outputs": []
    },
    {
      "cell_type": "markdown",
      "source": [
        "# **Train the model**"
      ],
      "metadata": {
        "id": "KClsx6x5nMH8"
      }
    },
    {
      "cell_type": "code",
      "source": [
        "mlp = MLP(input_dim=X_train.shape[1], hidden_dim=16, output_dim=1)\n",
        "mlp.train(X_train, y_train, lr=0.1, epochs=2000)"
      ],
      "metadata": {
        "colab": {
          "base_uri": "https://localhost:8080/",
          "height": 0
        },
        "id": "L5dCaaa7nQbP",
        "outputId": "98108126-d715-49f0-8d10-4a43561fab48"
      },
      "execution_count": 44,
      "outputs": [
        {
          "output_type": "stream",
          "name": "stdout",
          "text": [
            "Epoch 0, Loss: 0.2521\n",
            "Epoch 100, Loss: 0.0109\n",
            "Epoch 200, Loss: 0.0084\n",
            "Epoch 300, Loss: 0.0068\n",
            "Epoch 400, Loss: 0.0057\n",
            "Epoch 500, Loss: 0.0049\n",
            "Epoch 600, Loss: 0.0042\n",
            "Epoch 700, Loss: 0.0038\n",
            "Epoch 800, Loss: 0.0035\n",
            "Epoch 900, Loss: 0.0032\n",
            "Epoch 1000, Loss: 0.0030\n",
            "Epoch 1100, Loss: 0.0029\n",
            "Epoch 1200, Loss: 0.0028\n",
            "Epoch 1300, Loss: 0.0027\n",
            "Epoch 1400, Loss: 0.0026\n",
            "Epoch 1500, Loss: 0.0026\n",
            "Epoch 1600, Loss: 0.0025\n",
            "Epoch 1700, Loss: 0.0025\n",
            "Epoch 1800, Loss: 0.0024\n",
            "Epoch 1900, Loss: 0.0024\n"
          ]
        }
      ]
    },
    {
      "cell_type": "markdown",
      "source": [
        "# **Predictions**"
      ],
      "metadata": {
        "id": "JY3Px8mynnMG"
      }
    },
    {
      "cell_type": "code",
      "source": [
        "preds = mlp.predict(X_test)\n",
        "pred_labels = (preds > 0.5).astype(int)\n",
        "accuracy = np.mean(pred_labels == y_test)\n",
        "print(f\"Accuracy: {accuracy*100:.2f}%\")"
      ],
      "metadata": {
        "colab": {
          "base_uri": "https://localhost:8080/",
          "height": 0
        },
        "id": "Zg678HMcnvLf",
        "outputId": "9cad9978-6ebe-4aa4-a088-e2f61df0a35a"
      },
      "execution_count": 45,
      "outputs": [
        {
          "output_type": "stream",
          "name": "stdout",
          "text": [
            "Accuracy: 97.37%\n"
          ]
        }
      ]
    },
    {
      "cell_type": "markdown",
      "source": [
        "# **Data visualization**\n",
        "**Loss curve**"
      ],
      "metadata": {
        "id": "G5yhgdusoY3U"
      }
    },
    {
      "cell_type": "code",
      "source": [
        "plt.figure(figsize=(8,5))\n",
        "plt.plot(mlp.loss_history, label='Training Loss')\n",
        "plt.xlabel('Epochs')\n",
        "plt.ylabel('Loss')\n",
        "plt.title('Loss Curve')\n",
        "plt.legend()\n",
        "plt.show()"
      ],
      "metadata": {
        "colab": {
          "base_uri": "https://localhost:8080/",
          "height": 487
        },
        "id": "Fu5A9wFMoba8",
        "outputId": "8743768b-3e8a-4a91-ee80-0e9ffdd64cfc"
      },
      "execution_count": 46,
      "outputs": [
        {
          "output_type": "display_data",
          "data": {
            "text/plain": [
              "<Figure size 800x500 with 1 Axes>"
            ],
            "image/png": "[encoded data removed]"
          },
          "metadata": {}
        }
      ]
    },
    {
      "cell_type": "markdown",
      "source": [
        "# **Confusion Matrix**"
      ],
      "metadata": {
        "id": "HkxzKWd6pXuM"
      }
    },
    {
      "cell_type": "code",
      "source": [
        "cm = confusion_matrix(y_test, pred_labels)\n",
        "plt.figure(figsize=(6,4))\n",
        "sns.heatmap(cm, annot=True, fmt='d', cmap='Blues',\n",
        "            xticklabels=['Malignant', 'Benign'],\n",
        "            yticklabels=['Malignant', 'Benign'])\n",
        "plt.xlabel('Predicted')\n",
        "plt.ylabel('Actual')\n",
        "plt.title('Confusion Matrix')\n",
        "plt.show()"
      ],
      "metadata": {
        "colab": {
          "base_uri": "https://localhost:8080/",
          "height": 410
        },
        "id": "HOTT4R63pWRa",
        "outputId": "55ac5c42-dc02-42ad-e0bf-9deb0880ae4c"
      },
      "execution_count": 47,
      "outputs": [
        {
          "output_type": "display_data",
          "data": {
            "text/plain": [
              "<Figure size 600x400 with 2 Axes>"
            ],
            "image/png": "[encoded data removed]"
          },
          "metadata": {}
        }
      ]
    },
    {
      "cell_type": "markdown",
      "source": [
        "# **Classification Report**"
      ],
      "metadata": {
        "id": "bMqALzuOpieY"
      }
    },
    {
      "cell_type": "code",
      "source": [
        "print(\"\\nClassification Report:\\n\")\n",
        "print(classification_report(y_test, pred_labels, target_names=['Malignant', 'Benign']))"
      ],
      "metadata": {
        "colab": {
          "base_uri": "https://localhost:8080/",
          "height": 0
        },
        "id": "DVYLNgH6pffV",
        "outputId": "6a6121a0-4481-4460-9cee-89db0fe93233"
      },
      "execution_count": 48,
      "outputs": [
        {
          "output_type": "stream",
          "name": "stdout",
          "text": [
            "\n",
            "Classification Report:\n",
            "\n",
            "              precision    recall  f1-score   support\n",
            "\n",
            "   Malignant       0.95      0.98      0.97        43\n",
            "      Benign       0.99      0.97      0.98        71\n",
            "\n",
            "    accuracy                           0.97       114\n",
            "   macro avg       0.97      0.97      0.97       114\n",
            "weighted avg       0.97      0.97      0.97       114\n",
            "\n"
          ]
        }
      ]
    }
  ]
}