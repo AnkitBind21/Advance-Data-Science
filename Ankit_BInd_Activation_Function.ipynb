{
  "nbformat": 4,
  "nbformat_minor": 0,
  "metadata": {
    "colab": {
      "provenance": []
    },
    "kernelspec": {
      "name": "python3",
      "display_name": "Python 3"
    },
    "language_info": {
      "name": "python"
    }
  },
  "cells": [
    {
      "cell_type": "markdown",
      "source": [
        "# **Activation Functions**\n"
      ],
      "metadata": {
        "id": "BfY2NqbBgu07"
      }
    },
    {
      "cell_type": "markdown",
      "source": [
        "# **Binary Step Function**"
      ],
      "metadata": {
        "id": "y18kb6T8hYBl"
      }
    },
    {
      "cell_type": "code",
      "source": [
        "def binary_step(x):\n",
        "  if x<0:\n",
        "    return 0\n",
        "  else:\n",
        "    return 1\n",
        "\n",
        "binary_step(-12)"
      ],
      "metadata": {
        "colab": {
          "base_uri": "https://localhost:8080/"
        },
        "id": "dlofjW-Xh8kS",
        "outputId": "d12ea2eb-7ba2-4b60-ef88-d88fa33357aa"
      },
      "execution_count": null,
      "outputs": [
        {
          "output_type": "execute_result",
          "data": {
            "text/plain": [
              "0"
            ]
          },
          "metadata": {},
          "execution_count": 5
        }
      ]
    },
    {
      "cell_type": "markdown",
      "source": [
        "# **Linear Function**"
      ],
      "metadata": {
        "id": "P-a-LNQXhrUr"
      }
    },
    {
      "cell_type": "code",
      "source": [
        "def linear_function(x):\n",
        "  return 3*x\n",
        "\n",
        "linear_function(10), linear_function(-10)"
      ],
      "metadata": {
        "colab": {
          "base_uri": "https://localhost:8080/"
        },
        "id": "UBdly0fMhpj4",
        "outputId": "cf88fbbd-310d-41d9-cc5f-15267d8f496d"
      },
      "execution_count": null,
      "outputs": [
        {
          "output_type": "execute_result",
          "data": {
            "text/plain": [
              "(30, -30)"
            ]
          },
          "metadata": {},
          "execution_count": 6
        }
      ]
    },
    {
      "cell_type": "markdown",
      "source": [
        "# **Sigmoid Function**"
      ],
      "metadata": {
        "id": "Kaw07pP5iNFY"
      }
    },
    {
      "cell_type": "code",
      "source": [
        "import numpy as np\n",
        "def sigmoid_function(x):\n",
        "  z = (1/(1+np.exp(-x)))\n",
        "  return z\n",
        "\n",
        "sigmoid_function(10), sigmoid_function(-10)"
      ],
      "metadata": {
        "colab": {
          "base_uri": "https://localhost:8080/"
        },
        "id": "Ds_7Z-1SiKAM",
        "outputId": "b0cbe7c3-1f5c-41c3-cc20-6d39940a491c"
      },
      "execution_count": null,
      "outputs": [
        {
          "output_type": "execute_result",
          "data": {
            "text/plain": [
              "(0.9999546021312976, 4.5397868702434395e-05)"
            ]
          },
          "metadata": {},
          "execution_count": 7
        }
      ]
    },
    {
      "cell_type": "markdown",
      "source": [
        "# **Tanh**"
      ],
      "metadata": {
        "id": "Ht-PXTa_ibAg"
      }
    },
    {
      "cell_type": "code",
      "source": [
        "def tanh_function(x):\n",
        "  z = (2/(1+np.exp(-2*x)))-1\n",
        "  return z\n",
        "\n",
        "tanh_function(5), tanh_function(-2)\n"
      ],
      "metadata": {
        "colab": {
          "base_uri": "https://localhost:8080/"
        },
        "id": "ejBS1jo0iXDV",
        "outputId": "4a9020fe-cbe4-4fb4-8539-cea7a859d54a"
      },
      "execution_count": null,
      "outputs": [
        {
          "output_type": "execute_result",
          "data": {
            "text/plain": [
              "(0.9999092042625952, -0.9640275800758169)"
            ]
          },
          "metadata": {},
          "execution_count": 9
        }
      ]
    },
    {
      "cell_type": "markdown",
      "source": [
        "# **ReLU - Rectified Linear Unit**"
      ],
      "metadata": {
        "id": "2LYb6kijirUi"
      }
    },
    {
      "cell_type": "code",
      "source": [
        "def relu_function(x):\n",
        "  if x<0:\n",
        "    return 0\n",
        "  else:\n",
        "    return x\n",
        "\n",
        "relu_function(5), relu_function(-10)"
      ],
      "metadata": {
        "colab": {
          "base_uri": "https://localhost:8080/"
        },
        "id": "dpHZMrTviiz_",
        "outputId": "700e7daf-89c7-4e75-9bbd-6aed6fa766d9"
      },
      "execution_count": null,
      "outputs": [
        {
          "output_type": "execute_result",
          "data": {
            "text/plain": [
              "(5, 0)"
            ]
          },
          "metadata": {},
          "execution_count": 11
        }
      ]
    },
    {
      "cell_type": "markdown",
      "source": [
        "# **Leaky ReLU**"
      ],
      "metadata": {
        "id": "bls8dhphi1WD"
      }
    },
    {
      "cell_type": "code",
      "source": [
        "def leaky_relu_function(x):\n",
        "  if x<0:\n",
        "    return 0.01*x\n",
        "  else:\n",
        "    return x\n",
        "\n",
        "leaky_relu_function(5), leaky_relu_function(-7)"
      ],
      "metadata": {
        "colab": {
          "base_uri": "https://localhost:8080/"
        },
        "id": "ICTyaFgFivNg",
        "outputId": "890f24c8-e912-4920-dd9a-a11df50d1802"
      },
      "execution_count": null,
      "outputs": [
        {
          "output_type": "execute_result",
          "data": {
            "text/plain": [
              "(5, -0.07)"
            ]
          },
          "metadata": {},
          "execution_count": 13
        }
      ]
    },
    {
      "cell_type": "markdown",
      "source": [
        "# **Parameterised ReLU**"
      ],
      "metadata": {
        "id": "ND7MzRztjAeO"
      }
    },
    {
      "cell_type": "markdown",
      "source": [
        "The parameterised ReLU introduces a new parameter as a slope of the negative part of the\n",
        "function.\n",
        "\n",
        "Here’s how the ReLU function is modified to incorporate the slope parameter-\n",
        "f(x) = x, x>=0\n",
        "\n",
        "= ax, x<0\n",
        "\n",
        "When the value of a is fixed to 0.01, the function acts as a Leaky ReLU function.\n",
        "However, in case of a parameterised ReLU function, ‘a‘ is also a trainable parameter .\n",
        "The network also learns the value of ‘a‘ for faster and more optimum convergence."
      ],
      "metadata": {
        "id": "xwxt7TEdjMzk"
      }
    },
    {
      "cell_type": "markdown",
      "source": [
        "# **Exponential Linear Unit - ELU**"
      ],
      "metadata": {
        "id": "c9VdinwAjSBN"
      }
    },
    {
      "cell_type": "code",
      "source": [
        "def elu_function(x,a):\n",
        "  if x<0:\n",
        "    return a*(np.exp(x)-1)\n",
        "  else:\n",
        "    return x\n",
        "\n",
        "elu_function(5,0.1), elu_function(-5,0.1)\n"
      ],
      "metadata": {
        "colab": {
          "base_uri": "https://localhost:8080/"
        },
        "id": "wkKzkYeHjBof",
        "outputId": "a9ce5edb-23ae-4623-e381-c3d9dc6d54f3"
      },
      "execution_count": null,
      "outputs": [
        {
          "output_type": "execute_result",
          "data": {
            "text/plain": [
              "(5, -0.09932620530009145)"
            ]
          },
          "metadata": {},
          "execution_count": 14
        }
      ]
    },
    {
      "cell_type": "markdown",
      "source": [
        "# **Swish**"
      ],
      "metadata": {
        "id": "e6_4OpBTjg5_"
      }
    },
    {
      "cell_type": "code",
      "source": [
        "def swish_function(x):\n",
        "  return x/(1-np.exp(-x))\n",
        "\n",
        "swish_function(5), swish_function(-5)"
      ],
      "metadata": {
        "colab": {
          "base_uri": "https://localhost:8080/"
        },
        "id": "95xUoeyFjdmU",
        "outputId": "eb14dee9-0596-4ecf-92f7-75767d5091f4"
      },
      "execution_count": null,
      "outputs": [
        {
          "output_type": "execute_result",
          "data": {
            "text/plain": [
              "(5.033918274531521, 0.03391827453152116)"
            ]
          },
          "metadata": {},
          "execution_count": 15
        }
      ]
    },
    {
      "cell_type": "markdown",
      "source": [
        "# **Softmax**"
      ],
      "metadata": {
        "id": "JvxyDuL6jpOH"
      }
    },
    {
      "cell_type": "code",
      "source": [
        "def softmax_function(x):\n",
        "  z = np.exp(x)\n",
        "  z_ = z/z.sum()\n",
        "  return z_\n",
        "\n",
        "softmax_function([2.0,1.0,0.1])"
      ],
      "metadata": {
        "id": "ZNNqATWjjvBP",
        "outputId": "3fafbc02-718b-487a-a512-2447de1834df",
        "colab": {
          "base_uri": "https://localhost:8080/"
        }
      },
      "execution_count": null,
      "outputs": [
        {
          "output_type": "execute_result",
          "data": {
            "text/plain": [
              "array([0.65900114, 0.24243297, 0.09856589])"
            ]
          },
          "metadata": {},
          "execution_count": 16
        }
      ]
    }
  ]
}